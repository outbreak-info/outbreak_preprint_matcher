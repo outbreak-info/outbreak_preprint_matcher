{
 "cells": [
  {
   "cell_type": "markdown",
   "metadata": {},
   "source": [
    "## This notebook investigates the performance of the preprint-matcher algorithm\n",
    "To investigate the precision and accuracy of the results from the preprint matcher, this notebook will:\n",
    "1. Pull all preprints from the Pubmed pilot period\n",
    "2. Parse out the pmid of the corresponding peer-reviewed publication\n",
    "3. Check Litcovid for the corresponding peer-reviewed publication\n",
    "4. Analyze the results for number of pmids found by both the preprint matcher and the pubmed pilot, and the number of pmids found by each method only"
   ]
  },
  {
   "cell_type": "code",
   "execution_count": 16,
   "metadata": {},
   "outputs": [],
   "source": [
    "import requests\n",
    "import pandas as pd\n",
    "from pandas import read_csv\n",
    "import json\n",
    "from Bio import Entrez\n",
    "from Bio import Medline\n",
    "import time\n",
    "import pickle\n",
    "\n",
    "Entrez.email=\"gtsueng@scripps.edu\""
   ]
  },
  {
   "cell_type": "code",
   "execution_count": 14,
   "metadata": {},
   "outputs": [],
   "source": [
    "def parse_preprints(recordList):\n",
    "    results = []\n",
    "    for PMID in recordList:\n",
    "        handle = Entrez.efetch(db=\"pubmed\", id=PMID, rettype=\"medline\", retmode=\"text\")\n",
    "        records = Medline.parse(handle) ##parses pubmed entry for that ID \n",
    "        for record in records:\n",
    "            rec_dict = {\n",
    "                'preprintPMID':record['PMID'],\n",
    "                'preprint_citation':record['SO'],\n",
    "                'publicationType':record['PT']\n",
    "            }\n",
    "            try:\n",
    "                rec_dict['updatedInfo']=record['UIN']\n",
    "                results.append(rec_dict)\n",
    "            except:\n",
    "                rec_dict['updatedInfo']='could not parse'\n",
    "                results.append(rec_dict)\n",
    "            \n",
    "            time.sleep(0.5)\n",
    "    resultdf = pd.DataFrame(results)\n",
    "    return(resultdf)\n",
    "\"\"\"\n",
    "def parse_pmid(entry):\n",
    "    pmids = []\n",
    "    if len(entry)<=1:\n",
    "        tmp = entry[0].split(':')\n",
    "        pmid = tmp[-1].strip()\n",
    "        pmids.append(pmid)\n",
    "    else:\n",
    "        for eachentry in entry:\n",
    "            tmp = eachentry.split(':')\n",
    "            pmid = tmp[-1].strip()\n",
    "            pmids.append(pmid)\n",
    "    return(pmids)\n",
    "\"\"\"\n",
    "def parse_pmid(entry):\n",
    "    tmp = entry[0].split(':')\n",
    "    pmid = tmp[-1].strip()\n",
    "    return(pmid)"
   ]
  },
  {
   "cell_type": "code",
   "execution_count": 7,
   "metadata": {},
   "outputs": [
    {
     "name": "stdout",
     "output_type": "stream",
     "text": [
      "2674\n",
      "Wall time: 618 ms\n"
     ]
    }
   ],
   "source": [
    "%%time\n",
    "#### Fetch all preprints fromn PubMed\n",
    "\n",
    "#handle = Entrez.esearch(db=\"pubmed\", RetMax=5000, term=\"(COVID OR SARS OR pandemic OR Coronavirus) AND (preprint[Publication Type])\")\n",
    "handle = Entrez.esearch(db=\"pubmed\", RetMax=5000, term=\"preprint[Publication Type]\")\n",
    "records = Entrez.read(handle)\n",
    "handle.close()\n",
    "recordList = records['IdList']\n",
    "print(len(recordList))"
   ]
  },
  {
   "cell_type": "code",
   "execution_count": 17,
   "metadata": {},
   "outputs": [
    {
     "name": "stdout",
     "output_type": "stream",
     "text": [
      "    preprintPMID                                  preprint_citation  \\\n",
      "134     34312616  Res Sq. 2021 Jul 20. doi: 10.21203/rs.3.rs-700...   \n",
      "156     34268527  medRxiv. 2021 Jul 7. doi: 10.1101/2021.07.05.2...   \n",
      "\n",
      "    publicationType                                        updatedInfo  \\\n",
      "134      [Preprint]  [J Neurodev Disord. 2021 Sep 1;13(1):31. PMID:...   \n",
      "156      [Preprint]  [N Engl J Med. 2021 Sep 2;385(10):951-953. PMI...   \n",
      "\n",
      "    updatedPMID  \n",
      "134    34465306  \n",
      "156    34260834  \n",
      "Wall time: 22.2 ms\n"
     ]
    }
   ],
   "source": [
    "%%time\n",
    "#### Parse out the corresponding peer-reviewed version PMIDs\n",
    "resultdf = parse_preprints(recordList)\n",
    "has_update = resultdf.loc[resultdf['updatedInfo']!='could not parse'].copy()\n",
    "has_update['updatedPMID'] = has_update.apply(lambda row: parse_pmid(row['updatedInfo']),axis=1)\n",
    "#pmids = parse_pmid(has_update.iloc[0]['updatedInfo'])\n",
    "print(has_update.head(n=2))\n",
    "with open('data/pubmed_preprints.pickle','wb') as outfile:\n",
    "    pickle.dump(has_update,outfile)"
   ]
  },
  {
   "cell_type": "code",
   "execution_count": null,
   "metadata": {},
   "outputs": [],
   "source": [
    "with open('data/pubmed_preprints.pickle','rb') as infile:\n",
    "    has_update = pickle.load(infile)"
   ]
  },
  {
   "cell_type": "code",
   "execution_count": 37,
   "metadata": {},
   "outputs": [],
   "source": [
    "def parse_doi(entry):\n",
    "    tmp = entry.split(\":\")\n",
    "    doi = tmp[-1].strip()\n",
    "    return(doi)\n",
    "\n",
    "def parse_journal(entry):\n",
    "    tmp = entry.split(\":\")\n",
    "    tmp2 = tmp[0].split(\".\")\n",
    "    journal = tmp2[0]\n",
    "    return(journal)    "
   ]
  },
  {
   "cell_type": "code",
   "execution_count": 39,
   "metadata": {},
   "outputs": [
    {
     "name": "stdout",
     "output_type": "stream",
     "text": [
      "1288\n",
      "Wall time: 470 ms\n"
     ]
    }
   ],
   "source": [
    "%%time\n",
    "#### Check if the peer-reviewed version is in LitCovid\n",
    "#### If it is, keep it--otherwise, discard it\n",
    "\n",
    "##Load the litcovid file\n",
    "litcovid = read_csv('data/litcovid.export.all.tsv',delimiter='\\t',header=33)\n",
    "litcovid['pmid']=litcovid['pmid'].astype(str)\n",
    "#print(litcovid.head(n=2))\n",
    "##Pull the PMIDs\n",
    "litcovid_pmids = litcovid['pmid'].unique().tolist()\n",
    "##Check PMID overlap from preprints\n",
    "has_litcovid = has_update.loc[has_update['updatedPMID'].isin(litcovid_pmids)].copy()\n",
    "has_litcovid['outbreak_update_pmids']=['pmid'+str(x) for x in has_litcovid['updatedPMID']]\n",
    "print(len(has_litcovid))\n"
   ]
  },
  {
   "cell_type": "code",
   "execution_count": 45,
   "metadata": {},
   "outputs": [
    {
     "name": "stdout",
     "output_type": "stream",
     "text": [
      "    preprintPMID                                  preprint_citation  \\\n",
      "134     34312616  Res Sq. 2021 Jul 20. doi: 10.21203/rs.3.rs-700...   \n",
      "168     34268515  medRxiv. 2021 Jul 8. doi: 10.1101/2021.07.08.2...   \n",
      "\n",
      "    publicationType                                        updatedInfo  \\\n",
      "134      [Preprint]  [J Neurodev Disord. 2021 Sep 1;13(1):31. PMID:...   \n",
      "168      [Preprint]   [Clin Infect Dis. 2021 Aug 06;:. PMID: 34358310]   \n",
      "\n",
      "    updatedPMID outbreak_update_pmids                           doi  \\\n",
      "134    34465306          pmid34465306   10.21203/rs.3.rs-700296/v1.   \n",
      "168    34358310          pmid34358310  10.1101/2021.07.08.21259776.   \n",
      "\n",
      "    preprint journal  \n",
      "134           Res Sq  \n",
      "168          medRxiv  \n",
      "  preprint journal  counts\n",
      "0            ArXiv      28\n",
      "1         ChemRxiv      15\n",
      "2           Res Sq      86\n",
      "3             SSRN      14\n",
      "4          bioRxiv     548\n",
      "5          medRxiv     597\n"
     ]
    }
   ],
   "source": [
    "#### parse out the preprint dois\n",
    "has_litcovid['doi'] = has_litcovid.apply(lambda row: parse_doi(row['preprint_citation']),axis=1)\n",
    "has_litcovid['preprint journal'] = has_litcovid.apply(lambda row: parse_journal(row['preprint_citation']),axis=1)\n",
    "print(has_litcovid.head(n=2))\n",
    "print(has_litcovid.groupby('preprint journal').size().reset_index(name=\"counts\"))"
   ]
  },
  {
   "cell_type": "code",
   "execution_count": 31,
   "metadata": {},
   "outputs": [
    {
     "name": "stdout",
     "output_type": "stream",
     "text": [
      "Number of matches found by preprint matcher:  1662\n",
      "Number of matches found by pubmed pilot:  1259\n",
      "Number of matches found by both:  194\n",
      "Number of matches found only by preprint matcher:  1468\n",
      "Number of matches found only by pubmed pilot:  1065\n",
      "Wall time: 154 ms\n"
     ]
    }
   ],
   "source": [
    "%%time\n",
    "#### Check overlap with preprint-matching algorithm results\n",
    "litcovid_matches = read_csv('results/update dumps/litcovid_update_file.tsv', delimiter='\\t',header=0, index_col=0)\n",
    "matcher_litcovid_set = set(litcovid_matches['_id'].unique().tolist())\n",
    "pubmed_litcovid_set = set(has_litcovid['outbreak_update_pmids'].unique().tolist())\n",
    "in_common = matcher_litcovid_set.intersection(pubmed_litcovid_set)\n",
    "preprint_matcher_only = [x for x in list(matcher_litcovid_set) if x not in list(pubmed_litcovid_set)]\n",
    "pubmed_litcovid_only = [x for x in list(pubmed_litcovid_set) if x not in list(matcher_litcovid_set)]\n",
    "\n",
    "print(\"Number of matches found by preprint matcher: \", len(matcher_litcovid_set))\n",
    "print(\"Number of matches found by pubmed pilot: \", len(pubmed_litcovid_set))\n",
    "print(\"Number of matches found by both: \",len(in_common))\n",
    "print(\"Number of matches found only by preprint matcher: \",len(preprint_matcher_only))\n",
    "print(\"Number of matches found only by pubmed pilot: \", len(pubmed_litcovid_only))"
   ]
  },
  {
   "cell_type": "code",
   "execution_count": 48,
   "metadata": {},
   "outputs": [
    {
     "name": "stdout",
     "output_type": "stream",
     "text": [
      "Number of matches found by preprint matcher to review:  3134\n",
      "Number of matches found by pubmed pilot:  1259\n",
      "Number of matches found by both:  429\n",
      "Number of matches found only by preprint matcher to review:  2705\n",
      "Number of matches found only by pubmed pilot:  636\n"
     ]
    }
   ],
   "source": [
    "####Check overlap with the \"needs review matches\"\n",
    "manual_check = read_csv('results/to review/manual_check.txt', delimiter='\\t',header=0,index_col=0)\n",
    "#print(manual_check.head(n=2))\n",
    "manual_check_set = set(manual_check['litcovid'].unique().tolist())\n",
    "manual_in_common = manual_check_set.intersection(pubmed_litcovid_set)\n",
    "manual_check_only = [x for x in list(manual_check_set) if x not in list(pubmed_litcovid_set)]\n",
    "pubmed_litcovid_only_truly = [x for x in list(pubmed_litcovid_only) if x not in list(manual_check_set)]\n",
    "\n",
    "print(\"Number of matches found by preprint matcher to review: \", len(manual_check_set))\n",
    "print(\"Number of matches found by pubmed pilot: \", len(pubmed_litcovid_set))\n",
    "print(\"Number of matches found by both: \",len(manual_in_common))\n",
    "print(\"Number of matches found only by preprint matcher to review: \",len(manual_check_only))\n",
    "print(\"Number of matches found only by pubmed pilot: \", len(pubmed_litcovid_only_truly))"
   ]
  },
  {
   "cell_type": "code",
   "execution_count": 49,
   "metadata": {},
   "outputs": [
    {
     "name": "stdout",
     "output_type": "stream",
     "text": [
      "  preprint journal  counts\n",
      "0            ArXiv      28\n",
      "1         ChemRxiv      15\n",
      "2           Res Sq      74\n",
      "3             SSRN       8\n",
      "4          bioRxiv     275\n",
      "5          medRxiv     247\n"
     ]
    }
   ],
   "source": [
    "pubmed_unique_pilot = has_litcovid.loc[has_litcovid['outbreak_update_pmids'].isin(pubmed_litcovid_only_truly)]\n",
    "print(pubmed_unique_pilot.groupby('preprint journal').size().reset_index(name=\"counts\"))"
   ]
  },
  {
   "cell_type": "code",
   "execution_count": 17,
   "metadata": {},
   "outputs": [
    {
     "name": "stdout",
     "output_type": "stream",
     "text": [
      "33948449 ArXiv. 2020 Jan 15. pii: 2001.05099. ['Preprint'] ['Biometrics. 2021 Aug 9;:. PMID: 34374071']\n"
     ]
    }
   ],
   "source": [
    "#### Unit text\n",
    "\n",
    "PMID = \"33948449\"\n",
    "handle = Entrez.efetch(db=\"pubmed\", id=PMID, rettype=\"medline\", retmode=\"text\")\n",
    "records = Medline.parse(handle) ##parses pubmed entry for that ID and records the author\n",
    "results = []\n",
    "for record in records:\n",
    "    rec_dict = {\n",
    "        'preprintPMID':record['PMID'],\n",
    "        'preprint_citation':record['SO']\n",
    "        'publicationType':record['PT']\n",
    "        'updatedIn':record['UIN']\n",
    "    }\n",
    "    try:\n",
    "        tmp = record['UIN']\n",
    "        tmplist = tmp.split(':')\n",
    "        UIN_PMID = tmplist[-1]\n",
    "        rec_dict['updated in']=UIN_PMID\n",
    "    except:\n",
    "        rec_dict['updated in']='could not parse'\n",
    "    results.append(rec_dict)"
   ]
  },
  {
   "cell_type": "code",
   "execution_count": null,
   "metadata": {},
   "outputs": [],
   "source": []
  },
  {
   "cell_type": "markdown",
   "metadata": {},
   "source": [
    "### Alternative method for checking preprint matcher vs pubmed pilot\n",
    "To investigate the precision and accuracy of the results from the preprint matcher, this notebook will:\n",
    "1. Pull all LitCovid IDs with a 'corrections' field\n",
    "2. Filter only for 'corrections' fields where the values is 'update of' (litcovid itself does not contain preprints, so the corresponding field, 'update in', should not be present)\n",
    "3. Pull the corresponding pmid\n",
    "4. Map the pmid via doi matching to biorxiv/medrxiv preprints\n",
    "5. Analyze the results for number of true positives, false positives, and false negatives to get an idea of precision and sensitivity."
   ]
  },
  {
   "cell_type": "code",
   "execution_count": null,
   "metadata": {},
   "outputs": [],
   "source": [
    "## Fetch all LitCovid IDs with a 'corrections' field from the API\n"
   ]
  },
  {
   "cell_type": "code",
   "execution_count": null,
   "metadata": {},
   "outputs": [],
   "source": [
    "## Filter for 'corrections' field where value contains 'update of'"
   ]
  },
  {
   "cell_type": "code",
   "execution_count": null,
   "metadata": {},
   "outputs": [],
   "source": [
    "## Filter for 'corrections' field where value contains 'preprint'"
   ]
  },
  {
   "cell_type": "code",
   "execution_count": null,
   "metadata": {},
   "outputs": [],
   "source": [
    "## Fetch "
   ]
  },
  {
   "cell_type": "code",
   "execution_count": null,
   "metadata": {},
   "outputs": [],
   "source": []
  },
  {
   "cell_type": "code",
   "execution_count": null,
   "metadata": {},
   "outputs": [],
   "source": []
  },
  {
   "cell_type": "code",
   "execution_count": null,
   "metadata": {},
   "outputs": [],
   "source": []
  },
  {
   "cell_type": "code",
   "execution_count": null,
   "metadata": {},
   "outputs": [],
   "source": []
  },
  {
   "cell_type": "code",
   "execution_count": null,
   "metadata": {},
   "outputs": [],
   "source": []
  },
  {
   "cell_type": "code",
   "execution_count": null,
   "metadata": {},
   "outputs": [],
   "source": []
  },
  {
   "cell_type": "code",
   "execution_count": null,
   "metadata": {},
   "outputs": [],
   "source": [
    "## Fetch Retraction links: ROF - Obes Res Clin Pract. 2020 Jul - Aug;14(4):295-300. PMID: 32660813"
   ]
  }
 ],
 "metadata": {
  "kernelspec": {
   "display_name": "Python 3",
   "language": "python",
   "name": "python3"
  },
  "language_info": {
   "codemirror_mode": {
    "name": "ipython",
    "version": 3
   },
   "file_extension": ".py",
   "mimetype": "text/x-python",
   "name": "python",
   "nbconvert_exporter": "python",
   "pygments_lexer": "ipython3",
   "version": "3.8.5"
  }
 },
 "nbformat": 4,
 "nbformat_minor": 4
}
